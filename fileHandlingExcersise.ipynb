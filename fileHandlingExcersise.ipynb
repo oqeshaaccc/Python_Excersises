{
  "cells": [
    {
      "cell_type": "markdown",
      "metadata": {
        "id": "view-in-github",
        "colab_type": "text"
      },
      "source": [
        "<a href=\"https://colab.research.google.com/github/oqeshaaccc/Python_Excersises/blob/main/fileHandlingExcersise.ipynb\" target=\"_parent\"><img src=\"https://colab.research.google.com/assets/colab-badge.svg\" alt=\"Open In Colab\"/></a>"
      ]
    },
    {
      "cell_type": "markdown",
      "id": "c550ebac",
      "metadata": {
        "id": "c550ebac"
      },
      "source": [
        "###### Q1 Create a text file called mytxt.txt\n",
        "# Save the following content in the text file:\n",
        "# \"In this section, we will use Python's built-in open function to create a file\n",
        "# and obtain the data from a \"txt\" file.\n",
        "# We will use Python's open function to get a file object.\n",
        "# We can apply a method to that object to read data from the file.\n",
        "# The first argument is the file path, the second parameter is the mode.\""
      ]
    },
    {
      "cell_type": "code",
      "execution_count": null,
      "id": "3d642416",
      "metadata": {
        "id": "3d642416",
        "outputId": "6dba9095-9e70-45b1-c18b-e9365260cd69"
      },
      "outputs": [
        {
          "name": "stdout",
          "output_type": "stream",
          "text": [
            "In literary theory, a text is any object that can be \"read\", whether this object is a work of literature, a street sign, an arrangement of buildings on a city block, or styles of clothing. It is a coherent set of signs that transmits some kind of informative message. Thisisthelongestwordinthewholefileishouldbevisible\n",
            "this is another test in new line\n",
            "then there is this\n",
            "and later we have this and that\n"
          ]
        }
      ],
      "source": [
        "#Q1 Write a Python program to read the entire mytxt file\n",
        "f = open('mytxt.txt','r')\n",
        "print(f.read())"
      ]
    },
    {
      "cell_type": "code",
      "execution_count": null,
      "id": "b6be8587",
      "metadata": {
        "id": "b6be8587",
        "outputId": "dc875707-44f3-4d66-b239-a3881abe9982"
      },
      "outputs": [
        {
          "data": {
            "text/plain": [
              "['this is another test in new line\\n',\n",
              " 'then there is this\\n',\n",
              " 'and later we have this and that']"
            ]
          },
          "execution_count": 147,
          "metadata": {},
          "output_type": "execute_result"
        }
      ],
      "source": [
        "#Q2 Write a Python program to read last 3 lines of mytxt file\n",
        "f.seek(0)\n",
        "x = f.readlines()\n",
        "x[-3:]\n"
      ]
    },
    {
      "cell_type": "code",
      "execution_count": null,
      "id": "63dbcb5c",
      "metadata": {
        "id": "63dbcb5c",
        "outputId": "66901449-81ae-45d0-a57b-a018890fa31f"
      },
      "outputs": [
        {
          "data": {
            "text/plain": [
              "['then there is this\\n', 'and later we have this and that']"
            ]
          },
          "execution_count": 148,
          "metadata": {},
          "output_type": "execute_result"
        }
      ],
      "source": [
        "#Q3 Write a Python program to read last n lines of mytxt file\n",
        "#[Hint: write a function]\n",
        "n=2\n",
        "f.seek(0)\n",
        "x = f.readlines()\n",
        "x[n:]"
      ]
    },
    {
      "cell_type": "code",
      "execution_count": null,
      "id": "49ba16fe",
      "metadata": {
        "id": "49ba16fe",
        "outputId": "4c9de169-bf55-4a09-f27f-dc76b6ae266f"
      },
      "outputs": [
        {
          "data": {
            "text/plain": [
              "4"
            ]
          },
          "execution_count": 149,
          "metadata": {},
          "output_type": "execute_result"
        }
      ],
      "source": [
        "#Q4 count the number of lines in mytxt file\n",
        "f.seek(0)\n",
        "x = f.readlines()\n",
        "len(x)\n"
      ]
    },
    {
      "cell_type": "code",
      "execution_count": null,
      "id": "ea12904e",
      "metadata": {
        "id": "ea12904e",
        "outputId": "9e0a47a2-ec43-4fac-dae4-37cea9907f61"
      },
      "outputs": [
        {
          "name": "stdout",
          "output_type": "stream",
          "text": [
            "a.txt is opened for write mode\n",
            "b.txt is opened for write mode\n",
            "c.txt is opened for write mode\n"
          ]
        }
      ],
      "source": [
        "#Q5 Write a Python program to generate 26 text files named A.txt, B.txt,... Z.txt\n",
        "import string\n",
        "#string.ascii_lowercase[::-1] ------> Gives you this result 'zyxwvutsrqponmlkjihgfedcba'\n",
        "listOfAlph = list(string.ascii_lowercase[::]) #gives you 'abcdefghijklmnopqrstuvwxyz'\n",
        "listOfAlphSub = listOfAlph[:3] # i only want to open three files not all of them\n",
        "for i in listOfAlphSub:\n",
        "    f = open(i+'.txt','w')\n",
        "    print (i+'.txt is opened for write mode')\n",
        "\n"
      ]
    },
    {
      "cell_type": "code",
      "execution_count": null,
      "id": "48f834c9",
      "metadata": {
        "id": "48f834c9",
        "outputId": "2be36cb9-dfdf-4e56-f2f2-78e5512bd1c7"
      },
      "outputs": [
        {
          "data": {
            "text/plain": [
              "11"
            ]
          },
          "execution_count": 151,
          "metadata": {},
          "output_type": "execute_result"
        }
      ],
      "source": [
        "#Q6 Write a Python program to append \"End of file\" to mytxt file and\n",
        "# display the text\n",
        "f = open('mytxt.txt','a')\n",
        "f.write(\"End of file\")\n"
      ]
    },
    {
      "cell_type": "code",
      "execution_count": null,
      "id": "ab1d0f6e",
      "metadata": {
        "id": "ab1d0f6e",
        "outputId": "b97e100d-6c9f-4140-822b-bc062c394488"
      },
      "outputs": [
        {
          "data": {
            "text/plain": [
              "['In literary theory, a text is any object that can be \"read\", whether this object is a work of literature, a street sign, an arrangement of buildings on a city block, or styles of clothing. It is a coherent set of signs that transmits some kind of informative message. Thisisthelongestwordinthewholefileishouldbevisible\\n',\n",
              " 'this is another test in new line\\n',\n",
              " 'then there is this\\n',\n",
              " 'and later we have this and thatEnd of file']"
            ]
          },
          "execution_count": 152,
          "metadata": {},
          "output_type": "execute_result"
        }
      ],
      "source": [
        "f = open('mytxt.txt','r')\n",
        "f.seek(0)\n",
        "f.readlines()\n"
      ]
    },
    {
      "cell_type": "code",
      "execution_count": null,
      "id": "95afec24",
      "metadata": {
        "id": "95afec24",
        "outputId": "9acee03b-46bd-4f95-cefc-cef724564976"
      },
      "outputs": [
        {
          "name": "stdout",
          "output_type": "stream",
          "text": [
            "In literary theory, a text is any object that can be \"read\", whether this object is a work of literature, a street sign, an arrangement of buildings on a city block, or styles of clothing. It is a coherent set of signs that transmits some kind of informative message. Thisisthelongestwordinthewholefileishouldbevisible\n",
            "this is another test in new line\n",
            "then there is this\n",
            "and later we have this and thatEnd of file\n"
          ]
        }
      ],
      "source": [
        "#Q7 Write a Python program to remove newline characters from mytxt file\n",
        "with open('mytxt.txt','r') as f:\n",
        "    x = f.read() #returns all the content as one string\n",
        "    x.replace('\\n', ' ')\n",
        "    print(x)\n",
        "\n"
      ]
    },
    {
      "cell_type": "code",
      "execution_count": null,
      "id": "9b3a1fea",
      "metadata": {
        "id": "9b3a1fea",
        "outputId": "467ce867-d7a1-4b02-8e46-292e859d1211"
      },
      "outputs": [
        {
          "name": "stdout",
          "output_type": "stream",
          "text": [
            "The longest word is:  Thisisthelongestwordinthewholefileishouldbevisible\n",
            "this\n",
            "['Thisisthelongestwordinthewholefileishouldbevisible']\n"
          ]
        }
      ],
      "source": [
        "# Q8 Write a python program to find the longest word in mytxt file\n",
        "with open('mytxt.txt', 'r') as f:\n",
        "    x = f.read()\n",
        "    y= list(x.split(' ')) #y now has a list of the files words\n",
        "    #print (y)\n",
        "    LenOfEachElementOfY = [] #empty list\n",
        "    for i in y:\n",
        "        LenOfEachElementOfY . append(len(i)) #append the length of each word in the empty array\n",
        "    longestWordLivesInThisIndex = max(LenOfEachElementOfY) #find the max of the it\n",
        "    #print (LenOfEachElementOfY) #shows the index that has the longest word\n",
        "    #print(longestWordLivesInThisIndex)\n",
        "    #print(LenOfEachElementOfY.index(longestWordLivesInThisIndex))\n",
        "    print(\"The longest word is: \" , y[LenOfEachElementOfY.index(longestWordLivesInThisIndex)]) #find the index of the max, and then gave it to the first list\n",
        "\n",
        "    \n",
        "#an easier way of doing it\n",
        "def longest_word(filename):\n",
        "    with open(filename, 'r') as infile:\n",
        "              words = infile.read().split()\n",
        "    max_len = len(max(words, key=len))\n",
        "    return [word for word in words if len(word) == max_len]\n",
        "\n",
        "print(longest_word('mytxt.txt'))\n",
        "\n"
      ]
    },
    {
      "cell_type": "code",
      "execution_count": null,
      "id": "a3c424eb",
      "metadata": {
        "id": "a3c424eb",
        "outputId": "8aeeb489-131c-4114-b16e-87551e48c08a"
      },
      "outputs": [
        {
          "name": "stdout",
          "output_type": "stream",
          "text": [
            "13\n"
          ]
        }
      ],
      "source": [
        "#Q9 Write a Python program to count the frequency \"is\" in mytxt file\n",
        "with open('mytxt.txt','r') as f:\n",
        "    x = f.read()\n",
        "    print(x.count('is'))"
      ]
    },
    {
      "cell_type": "code",
      "execution_count": null,
      "id": "965ded9e",
      "metadata": {
        "id": "965ded9e"
      },
      "outputs": [],
      "source": []
    }
  ],
  "metadata": {
    "kernelspec": {
      "display_name": "Python 3 (ipykernel)",
      "language": "python",
      "name": "python3"
    },
    "language_info": {
      "codemirror_mode": {
        "name": "ipython",
        "version": 3
      },
      "file_extension": ".py",
      "mimetype": "text/x-python",
      "name": "python",
      "nbconvert_exporter": "python",
      "pygments_lexer": "ipython3",
      "version": "3.9.13"
    },
    "colab": {
      "provenance": [],
      "include_colab_link": true
    }
  },
  "nbformat": 4,
  "nbformat_minor": 5
}